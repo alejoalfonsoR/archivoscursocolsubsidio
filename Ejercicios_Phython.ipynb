{
  "nbformat": 4,
  "nbformat_minor": 0,
  "metadata": {
    "colab": {
      "provenance": []
    },
    "kernelspec": {
      "name": "python3",
      "display_name": "Python 3"
    },
    "language_info": {
      "name": "python"
    }
  },
  "cells": [
    {
      "cell_type": "markdown",
      "source": [
        "INICIANDO CON PYTHON"
      ],
      "metadata": {
        "id": "DoZmUJ8EMyQz"
      }
    },
    {
      "cell_type": "markdown",
      "source": [
        "1. Primer ejercicio"
      ],
      "metadata": {
        "id": "GVm-2imqBlhn"
      }
    },
    {
      "cell_type": "code",
      "source": [
        "n_identi = input(\"Digite su numero de identificacion: \")\n",
        "nombres = input(\"Escriba sus nombres: \")\n",
        "apellidos = input(\"Escriba sus apellidos: \")\n",
        "direccion = input(\"Ingrese su dirección: \") \n",
        "telefono = input(\"Ingrese su teléfono: \")\n",
        "edad = input(\"¿Cuantos años tiene?: \")\n",
        "e_civil= input(\"¿Cual es su estado civil?: \")\n",
        "n_hijos = input(\"¿Cuantos hijos tiene?: \")\n",
        "estatura_c = input(\"¿Cual es su estatura en centimetros?: \")\n",
        "fecha_contra = input(\"¿Cual es su fecha de contratacion? (Día/mes/año): \")\n",
        "sueldo_b = input(\"¿Cual es su sueldo básico?: \")\n",
        "d_Laborados = input(\"Ingrese la cantidad de días laborados: \")\n",
        "\n",
        "print(n_identi)\n",
        "print(nombres)\n",
        "print(apellidos)\n",
        "print(direccion)\n",
        "print(telefono)\n",
        "print(edad)\n",
        "print(e_civil)\n",
        "print(n_hijos)\n",
        "print(estatura_c)\n",
        "print(fecha_contra)\n",
        "print(sueldo_b)\n",
        "print(d_Laborados)"
      ],
      "metadata": {
        "colab": {
          "base_uri": "https://localhost:8080/"
        },
        "id": "oUwA6ZCdM1IR",
        "outputId": "e18602b3-9f79-4ae4-eda7-cd12b24be65c"
      },
      "execution_count": null,
      "outputs": [
        {
          "output_type": "stream",
          "name": "stdout",
          "text": [
            "Digite su numero de identificacion: 1514744\n",
            "Escriba sus nombres: Ale\n",
            "Escriba sus apellidos: Alfo\n",
            "Ingrese su dirección: Calle falsa 1 2 3\n",
            "Ingrese su teléfono: 51466541\n",
            "¿Cuantos años tiene?: 65\n",
            "¿Cual es su estado civil?: Soltero\n",
            "¿Cuantos hijos tiene?: 6\n",
            "¿Cual es su estatura en centimetros?: 170\n",
            "¿Cual es su fecha de contratacion? (Día/mes/año): 12/2/2022\n",
            "¿Cual es su sueldo básico?: 125832\n",
            "Ingrese la cantidad de días laborados: 65\n",
            "1514744\n",
            "Ale\n",
            "Alfo\n",
            "Calle falsa 1 2 3\n",
            "51466541\n",
            "65\n",
            "Soltero\n",
            "6\n",
            "170\n",
            "12/2/2022\n",
            "125832\n",
            "65\n"
          ]
        }
      ]
    },
    {
      "cell_type": "markdown",
      "source": [
        "2. Un vendedor recibe un sueldo base más un 10% extra por\n",
        "comisión de sus ventas, el vendedor desea saber cuánto\n",
        "dinero obtendrá por concepto de comisiones por las tres\n",
        "ventas que realiza en el mes y el total que recibirá en\n",
        "el mes tomando en cuenta su sueldo base y comisiones."
      ],
      "metadata": {
        "id": "ds-G8DWEpSmz"
      }
    },
    {
      "cell_type": "code",
      "source": [
        "sueldo = float(input(\"Ingrese su sueldo base: \"))\n",
        "ventas = int(input(\"Ingrese la cantidad de ventas realizadas en el mes: \"))\n",
        "\n",
        "comision = round(sueldo * (ventas * 0.1),2)\n",
        "total = sueldo + comision\n",
        "\n",
        "print(\"El valor de las comisiones es= ${:,.0f} y el Total a recibir es= ${:,.0f}\".format(comision, total))"
      ],
      "metadata": {
        "colab": {
          "base_uri": "https://localhost:8080/"
        },
        "id": "lNij0VPmpUGd",
        "outputId": "c3911d1d-841a-444a-e17e-016cbbe512fb"
      },
      "execution_count": null,
      "outputs": [
        {
          "output_type": "stream",
          "name": "stdout",
          "text": [
            "Ingrese su sueldo base: 1000000\n",
            "Ingrese la cantidad de ventas realizadas en el mes: 3\n",
            "El valor de las comisiones es= $300,000 y el Total a recibir es= $1,300,000\n"
          ]
        }
      ]
    },
    {
      "cell_type": "markdown",
      "source": [
        "3. Una tienda ofrece un descuento del 15% sobre el total\n",
        "de la compra y un cliente desea saber cuánto deberá\n",
        "pagar finalmente por su compra."
      ],
      "metadata": {
        "id": "Xsbpa3l2pW6C"
      }
    },
    {
      "cell_type": "code",
      "source": [
        "venta = float(input(\"¿Cual fue el total de la compra?: \"))\n",
        "\n",
        "descuento = venta*0.15\n",
        "total = venta - descuento\n",
        "\n",
        "print(\"El descuento es = ${:,.0f} y el total a pagar es = ${:,.0f}\".format(descuento, total))"
      ],
      "metadata": {
        "colab": {
          "base_uri": "https://localhost:8080/"
        },
        "id": "_aRObPo7pZbL",
        "outputId": "de95b35a-8b86-4a0e-f74f-f50b29286f41"
      },
      "execution_count": null,
      "outputs": [
        {
          "output_type": "stream",
          "name": "stdout",
          "text": [
            "¿Cual fue el total de la compra?: 2000000\n",
            "El descuento es = $300,000 y el total a pagar es = $1,700,000\n"
          ]
        }
      ]
    },
    {
      "cell_type": "markdown",
      "source": [
        "4. Un alumno desea saber cuál será su calificación final en\n",
        "la materia de Algoritmos. Dicha calificación se compone\n",
        "de tres exámenes parciales."
      ],
      "metadata": {
        "id": "I8Oqt2RCpZsi"
      }
    },
    {
      "cell_type": "code",
      "source": [
        "cal1 = float(input(\"Calificacion primer parcial: \"))\n",
        "cal2 = float(input(\"Calificacion segundo parcial: \"))\n",
        "cal3 = float(input(\"Calificacion tercer parcial: \"))\n",
        "\n",
        "total = round((cal1 + cal2 + cal3)/3,2)\n",
        "\n",
        "print(f\"La calificacion final es = {total}\")"
      ],
      "metadata": {
        "colab": {
          "base_uri": "https://localhost:8080/"
        },
        "id": "OFaSRrQkpblz",
        "outputId": "eb60f2a4-d9bc-4015-94df-8a7f690082d8"
      },
      "execution_count": null,
      "outputs": [
        {
          "output_type": "stream",
          "name": "stdout",
          "text": [
            "Calificacion primer parcial: 3.5\n",
            "Calificacion segundo parcial: 4\n",
            "Calificacion tercer parcial: 4.2\n",
            "La calificacion final es = 3.9\n"
          ]
        }
      ]
    },
    {
      "cell_type": "markdown",
      "source": [
        "5. Un maestro desea saber qué porcentaje de hombres y que\n",
        "porcentaje de mujeres hay en un grupo de estudiantes."
      ],
      "metadata": {
        "id": "Be5tqjTDpbtS"
      }
    },
    {
      "cell_type": "code",
      "source": [
        "mujeres = int(input(\"Ingrese la cantidad de mujeres: \"))\n",
        "hombres = int(input(\"Ingrese la cantidad de hombres: \"))\n",
        "\n",
        "p_mujeres = round((mujeres/(mujeres + hombres))*100,2)\n",
        "p_hombres = round((hombres/(mujeres + hombres))*100,2)\n",
        "\n",
        "print(f\"El porcentade de mujeres del grupo es= {p_mujeres}% y el porcentaje de Hombres del grupo es= {p_hombres}% \")"
      ],
      "metadata": {
        "colab": {
          "base_uri": "https://localhost:8080/"
        },
        "id": "08JyiiH1pdsK",
        "outputId": "1ef50a00-9037-44c9-9a4d-1deef7f82f61"
      },
      "execution_count": null,
      "outputs": [
        {
          "output_type": "stream",
          "name": "stdout",
          "text": [
            "Ingrese la cantidad de mujeres: 30\n",
            "Ingrese la cantidad de hombres: 20\n",
            "El porcentade de muejeres del grupo es= 60.0% y el porcentaje de Hombres del grupo es= 40.0% \n"
          ]
        }
      ]
    },
    {
      "cell_type": "markdown",
      "source": [
        "6. Si el empleado es mayor de 55 años disfrutará de un bono de prepensión correspondiente al 5% de su sueldo básico.\n",
        "\n"
      ],
      "metadata": {
        "id": "dKJvvj9FnGtt"
      }
    },
    {
      "cell_type": "code",
      "source": [
        "edad = int(input(\"Ingrese su edad: \"))\n",
        "sueldo = float(input(\"Ingrese su sueldo básico: \"))\n",
        "\n",
        "if edad > 55 :\n",
        "  bono = round((sueldo*0.05),2)\n",
        "  total = bono + sueldo\n",
        "  print(\"El bono pensional es igual a= ${:,.0f} y el total a recibir es= ${:,.0f}\".format(bono, total))\n",
        "else:\n",
        "  print(\"El empleado NO tiene derecho al bono pensional y el total a recibir es= ${:,.0f}\".format(sueldo))"
      ],
      "metadata": {
        "colab": {
          "base_uri": "https://localhost:8080/"
        },
        "id": "kVjYClrBnVdt",
        "outputId": "b70fa84b-0a62-448f-806f-8b0a83c0acb3"
      },
      "execution_count": null,
      "outputs": [
        {
          "output_type": "stream",
          "name": "stdout",
          "text": [
            "Ingrese su edad: 56\n",
            "Ingrese su sueldo básico: 1000000\n",
            "El bono pensional es igual a= $50,000 y el total a recibir es= $1,050,000\n"
          ]
        }
      ]
    },
    {
      "cell_type": "markdown",
      "source": [
        "7. Si el empleado es casado y tiene hijos se le otorgará un paseo cada diciembre"
      ],
      "metadata": {
        "id": "qYuDuWWc_19u"
      }
    },
    {
      "cell_type": "code",
      "source": [
        "e_civil = input(\"Por favor indique si es soltero o casado: \")\n",
        "if e_civil != \"soltero\":\n",
        "  hijos = int(input(\"Cuantos hijos tiene?: \"))\n",
        "  if hijos > 0:\n",
        "    print(\"!Felicidades¡ El empleado tiene derecho a un paseo cada diciembre\")\n",
        "  else: \n",
        "    print(\"El empleado No tiene derecho al paseo de diciembre\")\n",
        "else:\n",
        "  print(\"El empleado No tiene derecho al paseo de diciembre\")"
      ],
      "metadata": {
        "colab": {
          "base_uri": "https://localhost:8080/"
        },
        "id": "yiLqdMCOEiw0",
        "outputId": "145513fc-716a-4c31-f1d3-de0624c98fab"
      },
      "execution_count": null,
      "outputs": [
        {
          "output_type": "stream",
          "name": "stdout",
          "text": [
            "Por favor indique si es soltero o casado: casado\n",
            "Cuantos hijos tiene?: 1\n",
            "!Felicidades¡ El empleado tiene derecho a un paseo cada diciembre\n"
          ]
        }
      ]
    },
    {
      "cell_type": "markdown",
      "source": [
        "8. Si el sueldo básico está entre 1.000.000 y 1.500.000 tendrá una comisión del 2% sobre el valor del sueldo; Si el sueldo básico está entre 1.500.001 y 2.000.000 tendrá una comisión del 5% sobre el valor del sueldo; para todos los demás casos no habrá comisión."
      ],
      "metadata": {
        "id": "bsq3hVgsU4pB"
      }
    },
    {
      "cell_type": "code",
      "source": [
        "sueldo_b = float(input(\"Por favor ingrese su sueldo básico: \"))\n",
        "if sueldo_b > 1000000 and sueldo_b <= 1500000:\n",
        "  comision = round(sueldo_b * 0.02,2)\n",
        "  total = sueldo_b + comision\n",
        "  print(\"El empleado recibe una comision del 2% que equivale a= ${:,.0f} y el total a recibir es= ${:,.0f}\".format(comision, total))\n",
        "elif sueldo_b > 1500000 and sueldo_b <= 2000000:\n",
        "  comision = round(sueldo_b * 0.05,2)\n",
        "  total = sueldo_b + comision\n",
        "  print(\"El empleado recibe una comision del 5% que equivale a= ${:,.0f} y el total a recibir es= ${:,.0f}\".format(comision, total))\n",
        "else:\n",
        "  print(\"El empleado NO recibe comision. El total a recibir es= ${:,.0f}\".format(sueldo_b))"
      ],
      "metadata": {
        "colab": {
          "base_uri": "https://localhost:8080/"
        },
        "id": "qQp9ke9fVBuf",
        "outputId": "93af6f46-5495-46ee-c6b6-0964fab84cbe"
      },
      "execution_count": null,
      "outputs": [
        {
          "output_type": "stream",
          "name": "stdout",
          "text": [
            "Por favor ingrese su sueldo básico: 2000001\n",
            "El empleado NO recibe comision. El total a recibir es= $2,000,001\n"
          ]
        }
      ]
    },
    {
      "cell_type": "markdown",
      "source": [
        "9. Si el empleado trabajó más de 20 días al mes y su sueldo es menor a 1000000 tendrá derecho a un bono de alimentación."
      ],
      "metadata": {
        "id": "-zYWJGQXVB-e"
      }
    },
    {
      "cell_type": "code",
      "source": [
        "sueldo_b = float(input(\"Por favor ingrese su sueldo básico: \"))\n",
        "dias_t = int(input(\"Por favor ingresa la cantidad de días trabajados: \"))\n",
        "\n",
        "if sueldo_b < 1000000 and dias_t > 20:\n",
        "  print(\"El empleado tiene derecho a un bono de alimentación.\")\n",
        "else:\n",
        "  print(\"El empleado NO tiene derecho a un bono de alimentación.\")\n",
        "\n"
      ],
      "metadata": {
        "colab": {
          "base_uri": "https://localhost:8080/"
        },
        "id": "THG8zLAXaPnM",
        "outputId": "80f7cdae-2d3e-4512-fe71-0d9c99e09323"
      },
      "execution_count": null,
      "outputs": [
        {
          "output_type": "stream",
          "name": "stdout",
          "text": [
            "Por favor ingrese su sueldo básico: 95200\n",
            "Por favor ingresa la cantidad de días trabajados: 20\n",
            "El empleado NO tiene derecho a un bono de alimentación.\n"
          ]
        }
      ]
    },
    {
      "cell_type": "markdown",
      "source": [
        "10. Crear un bucle que cuente todos los números pares hasta\n",
        "el 100 ciclo for"
      ],
      "metadata": {
        "id": "xLOWqUDA92N8"
      }
    },
    {
      "cell_type": "code",
      "source": [
        "for i in range(0,101,2):\n",
        "  print(i)"
      ],
      "metadata": {
        "colab": {
          "base_uri": "https://localhost:8080/"
        },
        "id": "J1Eu7roS-GVr",
        "outputId": "5fb6f182-b7db-4d97-a3a1-0ce65097cd6f"
      },
      "execution_count": 2,
      "outputs": [
        {
          "output_type": "stream",
          "name": "stdout",
          "text": [
            "0\n",
            "2\n",
            "4\n",
            "6\n",
            "8\n",
            "10\n",
            "12\n",
            "14\n",
            "16\n",
            "18\n",
            "20\n",
            "22\n",
            "24\n",
            "26\n",
            "28\n",
            "30\n",
            "32\n",
            "34\n",
            "36\n",
            "38\n",
            "40\n",
            "42\n",
            "44\n",
            "46\n",
            "48\n",
            "50\n",
            "52\n",
            "54\n",
            "56\n",
            "58\n",
            "60\n",
            "62\n",
            "64\n",
            "66\n",
            "68\n",
            "70\n",
            "72\n",
            "74\n",
            "76\n",
            "78\n",
            "80\n",
            "82\n",
            "84\n",
            "86\n",
            "88\n",
            "90\n",
            "92\n",
            "94\n",
            "96\n",
            "98\n",
            "100\n"
          ]
        }
      ]
    },
    {
      "cell_type": "markdown",
      "source": [
        "11. Haz una tabla de multiplicar utilizando el ciclo for"
      ],
      "metadata": {
        "id": "_YCXcgXn-gib"
      }
    },
    {
      "cell_type": "code",
      "source": [
        "num = int(input(\"Digite el número que desea para generar la tabla de multiplicar: \"))\n",
        "\n",
        "for i in range(11):\n",
        "  print(i, \" x \", num, \" = \",  i * num)"
      ],
      "metadata": {
        "colab": {
          "base_uri": "https://localhost:8080/"
        },
        "id": "mUN9mSA--oNE",
        "outputId": "e8574e14-29ed-43ff-fbdd-5e72fd3ae2d6"
      },
      "execution_count": 3,
      "outputs": [
        {
          "output_type": "stream",
          "name": "stdout",
          "text": [
            "Digite el número que desea para generar la tabla de multiplicar: 10\n",
            "0  x  10  =  0\n",
            "1  x  10  =  10\n",
            "2  x  10  =  20\n",
            "3  x  10  =  30\n",
            "4  x  10  =  40\n",
            "5  x  10  =  50\n",
            "6  x  10  =  60\n",
            "7  x  10  =  70\n",
            "8  x  10  =  80\n",
            "9  x  10  =  90\n",
            "10  x  10  =  100\n"
          ]
        }
      ]
    },
    {
      "cell_type": "markdown",
      "source": [
        "12. Escribir un programa que pregunte al usuario su edad y\n",
        "muestre por pantalla todos los años que ha cumplido\n",
        "(desde 1 hasta su edad)."
      ],
      "metadata": {
        "id": "3qmvqCcc_MKG"
      }
    },
    {
      "cell_type": "code",
      "source": [
        "edad = int(input(\"Por favor, ingrese su edad: \"))\n",
        "print(\"Usted ha cumplido los siguientes años:\")\n",
        "for i in range(1, edad + 1):\n",
        "    print(i)"
      ],
      "metadata": {
        "colab": {
          "base_uri": "https://localhost:8080/"
        },
        "id": "nL5PH_Qo_U79",
        "outputId": "90e82ac0-b4b0-495d-ae85-46d4f4e365be"
      },
      "execution_count": 4,
      "outputs": [
        {
          "output_type": "stream",
          "name": "stdout",
          "text": [
            "Por favor, ingrese su edad: 20\n",
            "Usted ha cumplido los siguientes años:\n",
            "1\n",
            "2\n",
            "3\n",
            "4\n",
            "5\n",
            "6\n",
            "7\n",
            "8\n",
            "9\n",
            "10\n",
            "11\n",
            "12\n",
            "13\n",
            "14\n",
            "15\n",
            "16\n",
            "17\n",
            "18\n",
            "19\n",
            "20\n"
          ]
        }
      ]
    },
    {
      "cell_type": "markdown",
      "source": [
        "13. Escribir un programa que pida al usuario un número entero\n",
        "positivo y muestre por pantalla todos los números\n",
        "impares desde 1 hasta ese número separados por comas."
      ],
      "metadata": {
        "id": "rlQTG6lj_5_e"
      }
    },
    {
      "cell_type": "code",
      "source": [
        "numero = int(input(\"Por favor, ingrese un numero entero positivo: \"))\n",
        "acu=0\n",
        "\n",
        "for i in range(1,numero + 1,2):\n",
        "  print(i)\n",
        "\n",
        "\n"
      ],
      "metadata": {
        "colab": {
          "base_uri": "https://localhost:8080/"
        },
        "id": "CpRLY0hqA1LV",
        "outputId": "7c484c28-0f78-4b6c-d555-a342a9956e04"
      },
      "execution_count": 4,
      "outputs": [
        {
          "output_type": "stream",
          "name": "stdout",
          "text": [
            "Por favor, ingrese un numero entero positivo: 9\n",
            "1\n",
            "3\n",
            "5\n",
            "7\n",
            "9\n"
          ]
        }
      ]
    },
    {
      "cell_type": "markdown",
      "source": [
        "14. Encuentra la suma de todos los números pares del 1 al 100"
      ],
      "metadata": {
        "id": "j0Evrvuyz1-V"
      }
    },
    {
      "cell_type": "code",
      "source": [
        "acu = 0\n",
        "\n",
        "for i in range(1,101,2):\n",
        "  acu = acu + i\n",
        "print(f\"El total de la suma de los número pares del 1-100= {acu}\")"
      ],
      "metadata": {
        "colab": {
          "base_uri": "https://localhost:8080/"
        },
        "id": "w5gf6Eelz6ql",
        "outputId": "0cca0fe5-874e-4517-ff0e-e98bfa952643"
      },
      "execution_count": 7,
      "outputs": [
        {
          "output_type": "stream",
          "name": "stdout",
          "text": [
            "El total de la suma de los número pares del 1-100= 2500\n"
          ]
        }
      ]
    }
  ]
}